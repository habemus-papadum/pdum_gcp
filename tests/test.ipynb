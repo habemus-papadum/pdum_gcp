{
 "cells": [
  {
   "cell_type": "code",
   "execution_count": 1,
   "id": "cd4b85eb",
   "metadata": {},
   "outputs": [],
   "source": [
    "%load_ext autoreload\n",
    "%autoreload 2"
   ]
  },
  {
   "cell_type": "code",
   "execution_count": 2,
   "id": "ce3ea315",
   "metadata": {},
   "outputs": [],
   "source": [
    "  # Direct import\n",
    "from pdum.gcp.admin import get_email, list_organizations\n"
   ]
  },
  {
   "cell_type": "code",
   "execution_count": 3,
   "id": "d2407413",
   "metadata": {},
   "outputs": [
    {
     "data": {
      "text/plain": [
       "'nehal.alum@gmail.com'"
      ]
     },
     "execution_count": 3,
     "metadata": {},
     "output_type": "execute_result"
    }
   ],
   "source": [
    "get_email()\n"
   ]
  },
  {
   "cell_type": "code",
   "execution_count": 4,
   "id": "bab43d40",
   "metadata": {},
   "outputs": [
    {
     "name": "stdout",
     "output_type": "stream",
     "text": [
      "Found 2 organization(s)/container(s):\n",
      "\n",
      "🌺 grtig-horizons.com (organizations/18100153825)\n",
      "├── 🎸 Test (folders/673571045739)\n",
      "├── 🎵 admin-74726 (ACTIVE)\n",
      "├── 🎵 h-papadum-admin-9ada15f8 (DELETE_REQUESTED)\n",
      "└── 🎵 striking-lane-476720-t0 (DELETE_REQUESTED)\n",
      "\n",
      "🐞 No Organization (NO_ORG)\n",
      "├── 🎵 h-papadum-admin-9b1b3b9b (DELETE_REQUESTED)\n",
      "├── 🎵 oxygen-409914 (DELETE_REQUESTED)\n",
      "├── 🎵 dogwood-theorem-316813 (ACTIVE)\n",
      "└── 🎵 texttospeech-263822 (ACTIVE)\n",
      "\n"
     ]
    }
   ],
   "source": [
    "organizations = list_organizations()\n",
    "\n",
    "if not organizations:\n",
    "    print(\"No organizations found. You may not have access to any GCP organizations.\")\n",
    "else:\n",
    "    print(f\"Found {len(organizations)} organization(s)/container(s):\\n\")\n",
    "\n",
    "    for org in organizations:\n",
    "        org.tree()\n",
    "        print()  # Add spacing between organizations"
   ]
  },
  {
   "cell_type": "code",
   "execution_count": 5,
   "id": "2027fc78",
   "metadata": {},
   "outputs": [
    {
     "ename": "TypeError",
     "evalue": "NO_ORG cannot have folders. Projects without an organization parent cannot contain folders. To create a folder, you must first create or use an existing organization or folder as the parent.",
     "output_type": "error",
     "traceback": [
      "\u001b[31m---------------------------------------------------------------------------\u001b[39m",
      "\u001b[31mTypeError\u001b[39m                                 Traceback (most recent call last)",
      "\u001b[36mCell\u001b[39m\u001b[36m \u001b[39m\u001b[32mIn[5]\u001b[39m\u001b[32m, line 1\u001b[39m\n\u001b[32m----> \u001b[39m\u001b[32m1\u001b[39m \u001b[43morganizations\u001b[49m\u001b[43m[\u001b[49m\u001b[32;43m1\u001b[39;49m\u001b[43m]\u001b[49m\u001b[43m.\u001b[49m\u001b[43mcreate_folder\u001b[49m\u001b[43m(\u001b[49m\u001b[33;43m\"\u001b[39;49m\u001b[33;43mTest\u001b[39;49m\u001b[33;43m\"\u001b[39;49m\u001b[43m)\u001b[49m\n",
      "\u001b[36mFile \u001b[39m\u001b[32m~/src/pdum_gcp/src/pdum/gcp/types.py:735\u001b[39m, in \u001b[36m_NoOrgSentinel.create_folder\u001b[39m\u001b[34m(self, display_name, credentials)\u001b[39m\n\u001b[32m    723\u001b[39m \u001b[38;5;28;01mdef\u001b[39;00m\u001b[38;5;250m \u001b[39m\u001b[34mcreate_folder\u001b[39m(\u001b[38;5;28mself\u001b[39m, display_name: \u001b[38;5;28mstr\u001b[39m, credentials=\u001b[38;5;28;01mNone\u001b[39;00m) -> Folder:\n\u001b[32m    724\u001b[39m \u001b[38;5;250m    \u001b[39m\u001b[33;03m\"\"\"Create a new folder as a child of NO_ORG.\u001b[39;00m\n\u001b[32m    725\u001b[39m \n\u001b[32m    726\u001b[39m \u001b[33;03m    NO_ORG cannot have folders as children.\u001b[39;00m\n\u001b[32m   (...)\u001b[39m\u001b[32m    733\u001b[39m \u001b[33;03m        TypeError: Always raised because NO_ORG cannot have folders\u001b[39;00m\n\u001b[32m    734\u001b[39m \u001b[33;03m    \"\"\"\u001b[39;00m\n\u001b[32m--> \u001b[39m\u001b[32m735\u001b[39m     \u001b[38;5;28;01mraise\u001b[39;00m \u001b[38;5;167;01mTypeError\u001b[39;00m(\n\u001b[32m    736\u001b[39m         \u001b[33m\"\u001b[39m\u001b[33mNO_ORG cannot have folders. Projects without an organization parent \u001b[39m\u001b[33m\"\u001b[39m\n\u001b[32m    737\u001b[39m         \u001b[33m\"\u001b[39m\u001b[33mcannot contain folders. To create a folder, you must first create or \u001b[39m\u001b[33m\"\u001b[39m\n\u001b[32m    738\u001b[39m         \u001b[33m\"\u001b[39m\u001b[33muse an existing organization or folder as the parent.\u001b[39m\u001b[33m\"\u001b[39m\n\u001b[32m    739\u001b[39m     )\n",
      "\u001b[31mTypeError\u001b[39m: NO_ORG cannot have folders. Projects without an organization parent cannot contain folders. To create a folder, you must first create or use an existing organization or folder as the parent."
     ]
    }
   ],
   "source": [
    "organizations[1].create_folder(\"Test\")"
   ]
  },
  {
   "cell_type": "code",
   "execution_count": 6,
   "id": "1fcdf96d",
   "metadata": {},
   "outputs": [
    {
     "data": {
      "text/plain": [
       "Folder(id='673571045739', resource_name='folders/673571045739', display_name='Test', parent_resource_name='organizations/18100153825')"
      ]
     },
     "execution_count": 6,
     "metadata": {},
     "output_type": "execute_result"
    }
   ],
   "source": [
    "f = organizations[0].folders()[0]\n",
    "f"
   ]
  },
  {
   "cell_type": "code",
   "execution_count": 8,
   "id": "ed33aaa4",
   "metadata": {},
   "outputs": [
    {
     "data": {
      "text/plain": [
       "Folder(id='910251314279', resource_name='folders/910251314279', display_name='TestSub', parent_resource_name='folders/673571045739')"
      ]
     },
     "execution_count": 8,
     "metadata": {},
     "output_type": "execute_result"
    }
   ],
   "source": [
    "f.create_folder(\"TestSub\")"
   ]
  },
  {
   "cell_type": "code",
   "execution_count": null,
   "id": "4e12a032",
   "metadata": {},
   "outputs": [],
   "source": []
  }
 ],
 "metadata": {
  "kernelspec": {
   "display_name": "habemus-papadum-gcp",
   "language": "python",
   "name": "python3"
  },
  "language_info": {
   "codemirror_mode": {
    "name": "ipython",
    "version": 3
   },
   "file_extension": ".py",
   "mimetype": "text/x-python",
   "name": "python",
   "nbconvert_exporter": "python",
   "pygments_lexer": "ipython3",
   "version": "3.12.11"
  }
 },
 "nbformat": 4,
 "nbformat_minor": 5
}
