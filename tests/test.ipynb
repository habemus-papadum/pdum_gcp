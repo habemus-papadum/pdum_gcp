{
 "cells": [
  {
   "cell_type": "code",
   "execution_count": 1,
   "id": "cd4b85eb",
   "metadata": {},
   "outputs": [],
   "source": [
    "%load_ext autoreload\n",
    "%autoreload 2"
   ]
  },
  {
   "cell_type": "code",
   "execution_count": 2,
   "id": "ce3ea315",
   "metadata": {},
   "outputs": [],
   "source": [
    "  # Direct import\n",
    "from pdum.gcp.admin import get_email, list_organizations\n"
   ]
  },
  {
   "cell_type": "code",
   "execution_count": 3,
   "id": "d2407413",
   "metadata": {},
   "outputs": [
    {
     "data": {
      "text/plain": [
       "'nehal.alum@gmail.com'"
      ]
     },
     "execution_count": 3,
     "metadata": {},
     "output_type": "execute_result"
    }
   ],
   "source": [
    "get_email()\n"
   ]
  },
  {
   "cell_type": "code",
   "execution_count": 4,
   "id": "bab43d40",
   "metadata": {},
   "outputs": [
    {
     "name": "stdout",
     "output_type": "stream",
     "text": [
      "Found 2 organization(s)/container(s):\n",
      "\n",
      "🌺 grtig-horizons.com (organizations/18100153825)\n",
      "├── 🎸 Test (folders/673571045739)\n",
      "├── 🎵 admin-74726 (ACTIVE)\n",
      "├── 🎵 h-papadum-admin-9ada15f8 (DELETE_REQUESTED)\n",
      "└── 🎵 striking-lane-476720-t0 (DELETE_REQUESTED)\n",
      "\n",
      "🐞 No Organization (NO_ORG)\n",
      "├── 🎵 h-papadum-admin-9b1b3b9b (DELETE_REQUESTED)\n",
      "├── 🎵 oxygen-409914 (DELETE_REQUESTED)\n",
      "├── 🎵 dogwood-theorem-316813 (ACTIVE)\n",
      "└── 🎵 texttospeech-263822 (ACTIVE)\n",
      "\n"
     ]
    }
   ],
   "source": [
    "organizations = list_organizations()\n",
    "\n",
    "if not organizations:\n",
    "    print(\"No organizations found. You may not have access to any GCP organizations.\")\n",
    "else:\n",
    "    print(f\"Found {len(organizations)} organization(s)/container(s):\\n\")\n",
    "\n",
    "    for org in organizations:\n",
    "        org.tree()\n",
    "        print()  # Add spacing between organizations"
   ]
  },
  {
   "cell_type": "code",
   "execution_count": 5,
   "id": "2027fc78",
   "metadata": {},
   "outputs": [
    {
     "ename": "TypeError",
     "evalue": "NO_ORG cannot have folders. Projects without an organization parent cannot contain folders. To create a folder, you must first create or use an existing organization or folder as the parent.",
     "output_type": "error",
     "traceback": [
      "\u001b[31m---------------------------------------------------------------------------\u001b[39m",
      "\u001b[31mTypeError\u001b[39m                                 Traceback (most recent call last)",
      "\u001b[36mCell\u001b[39m\u001b[36m \u001b[39m\u001b[32mIn[5]\u001b[39m\u001b[32m, line 1\u001b[39m\n\u001b[32m----> \u001b[39m\u001b[32m1\u001b[39m \u001b[43morganizations\u001b[49m\u001b[43m[\u001b[49m\u001b[32;43m1\u001b[39;49m\u001b[43m]\u001b[49m\u001b[43m.\u001b[49m\u001b[43mcreate_folder\u001b[49m\u001b[43m(\u001b[49m\u001b[33;43m\"\u001b[39;49m\u001b[33;43mTest\u001b[39;49m\u001b[33;43m\"\u001b[39;49m\u001b[43m)\u001b[49m\n",
      "\u001b[36mFile \u001b[39m\u001b[32m~/src/pdum_gcp/src/pdum/gcp/types.py:735\u001b[39m, in \u001b[36m_NoOrgSentinel.create_folder\u001b[39m\u001b[34m(self, display_name, credentials)\u001b[39m\n\u001b[32m    723\u001b[39m \u001b[38;5;28;01mdef\u001b[39;00m\u001b[38;5;250m \u001b[39m\u001b[34mcreate_folder\u001b[39m(\u001b[38;5;28mself\u001b[39m, display_name: \u001b[38;5;28mstr\u001b[39m, credentials=\u001b[38;5;28;01mNone\u001b[39;00m) -> Folder:\n\u001b[32m    724\u001b[39m \u001b[38;5;250m    \u001b[39m\u001b[33;03m\"\"\"Create a new folder as a child of NO_ORG.\u001b[39;00m\n\u001b[32m    725\u001b[39m \n\u001b[32m    726\u001b[39m \u001b[33;03m    NO_ORG cannot have folders as children.\u001b[39;00m\n\u001b[32m   (...)\u001b[39m\u001b[32m    733\u001b[39m \u001b[33;03m        TypeError: Always raised because NO_ORG cannot have folders\u001b[39;00m\n\u001b[32m    734\u001b[39m \u001b[33;03m    \"\"\"\u001b[39;00m\n\u001b[32m--> \u001b[39m\u001b[32m735\u001b[39m     \u001b[38;5;28;01mraise\u001b[39;00m \u001b[38;5;167;01mTypeError\u001b[39;00m(\n\u001b[32m    736\u001b[39m         \u001b[33m\"\u001b[39m\u001b[33mNO_ORG cannot have folders. Projects without an organization parent \u001b[39m\u001b[33m\"\u001b[39m\n\u001b[32m    737\u001b[39m         \u001b[33m\"\u001b[39m\u001b[33mcannot contain folders. To create a folder, you must first create or \u001b[39m\u001b[33m\"\u001b[39m\n\u001b[32m    738\u001b[39m         \u001b[33m\"\u001b[39m\u001b[33muse an existing organization or folder as the parent.\u001b[39m\u001b[33m\"\u001b[39m\n\u001b[32m    739\u001b[39m     )\n",
      "\u001b[31mTypeError\u001b[39m: NO_ORG cannot have folders. Projects without an organization parent cannot contain folders. To create a folder, you must first create or use an existing organization or folder as the parent."
     ]
    }
   ],
   "source": [
    "organizations[1].create_folder(\"Test\")"
   ]
  },
  {
   "cell_type": "code",
   "execution_count": 6,
   "id": "1fcdf96d",
   "metadata": {},
   "outputs": [
    {
     "data": {
      "text/plain": [
       "Folder(id='673571045739', resource_name='folders/673571045739', display_name='Test', parent_resource_name='organizations/18100153825')"
      ]
     },
     "execution_count": 6,
     "metadata": {},
     "output_type": "execute_result"
    }
   ],
   "source": [
    "f = organizations[0].folders()[0]\n",
    "f"
   ]
  },
  {
   "cell_type": "code",
   "execution_count": 8,
   "id": "ed33aaa4",
   "metadata": {},
   "outputs": [
    {
     "data": {
      "text/plain": [
       "Folder(id='910251314279', resource_name='folders/910251314279', display_name='TestSub', parent_resource_name='folders/673571045739')"
      ]
     },
     "execution_count": 8,
     "metadata": {},
     "output_type": "execute_result"
    }
   ],
   "source": [
    "f.create_folder(\"TestSub\")"
   ]
  },
  {
   "cell_type": "code",
   "execution_count": 9,
   "id": "4e12a032",
   "metadata": {},
   "outputs": [
    {
     "ename": "HttpError",
     "evalue": "<HttpError 403 when requesting https://cloudbilling.googleapis.com/v1/billingAccounts?alt=json returned \"Cloud Billing API has not been used in project dogwood-theorem-316813 before or it is disabled. Enable it by visiting https://console.developers.google.com/apis/api/cloudbilling.googleapis.com/overview?project=dogwood-theorem-316813 then retry. If you enabled this API recently, wait a few minutes for the action to propagate to our systems and retry.\". Details: \"[{'@type': 'type.googleapis.com/google.rpc.ErrorInfo', 'reason': 'SERVICE_DISABLED', 'domain': 'googleapis.com', 'metadata': {'consumer': 'projects/dogwood-theorem-316813', 'service': 'cloudbilling.googleapis.com', 'serviceTitle': 'Cloud Billing API', 'activationUrl': 'https://console.developers.google.com/apis/api/cloudbilling.googleapis.com/overview?project=dogwood-theorem-316813', 'containerInfo': 'dogwood-theorem-316813'}}, {'@type': 'type.googleapis.com/google.rpc.LocalizedMessage', 'locale': 'en-US', 'message': 'Cloud Billing API has not been used in project dogwood-theorem-316813 before or it is disabled. Enable it by visiting https://console.developers.google.com/apis/api/cloudbilling.googleapis.com/overview?project=dogwood-theorem-316813 then retry. If you enabled this API recently, wait a few minutes for the action to propagate to our systems and retry.'}, {'@type': 'type.googleapis.com/google.rpc.Help', 'links': [{'description': 'Google developers console API activation', 'url': 'https://console.developers.google.com/apis/api/cloudbilling.googleapis.com/overview?project=dogwood-theorem-316813'}]}]\">",
     "output_type": "error",
     "traceback": [
      "\u001b[31m---------------------------------------------------------------------------\u001b[39m",
      "\u001b[31mHttpError\u001b[39m                                 Traceback (most recent call last)",
      "\u001b[36mCell\u001b[39m\u001b[36m \u001b[39m\u001b[32mIn[9]\u001b[39m\u001b[32m, line 2\u001b[39m\n\u001b[32m      1\u001b[39m \u001b[38;5;28;01mfrom\u001b[39;00m\u001b[38;5;250m \u001b[39m\u001b[34;01mpdum\u001b[39;00m\u001b[34;01m.\u001b[39;00m\u001b[34;01mgcp\u001b[39;00m\u001b[38;5;250m \u001b[39m\u001b[38;5;28;01mimport\u001b[39;00m NO_ORG\n\u001b[32m----> \u001b[39m\u001b[32m2\u001b[39m all_accounts = \u001b[43mNO_ORG\u001b[49m\u001b[43m.\u001b[49m\u001b[43mbilling_accounts\u001b[49m\u001b[43m(\u001b[49m\u001b[43m)\u001b[49m\n",
      "\u001b[36mFile \u001b[39m\u001b[32m~/src/pdum_gcp/src/pdum/gcp/types.py:991\u001b[39m, in \u001b[36m_NoOrgSentinel.billing_accounts\u001b[39m\u001b[34m(self, credentials)\u001b[39m\n\u001b[32m    989\u001b[39m \u001b[38;5;66;03m# Handle pagination\u001b[39;00m\n\u001b[32m    990\u001b[39m \u001b[38;5;28;01mwhile\u001b[39;00m request \u001b[38;5;129;01mis\u001b[39;00m \u001b[38;5;129;01mnot\u001b[39;00m \u001b[38;5;28;01mNone\u001b[39;00m:\n\u001b[32m--> \u001b[39m\u001b[32m991\u001b[39m     response = \u001b[43mrequest\u001b[49m\u001b[43m.\u001b[49m\u001b[43mexecute\u001b[49m\u001b[43m(\u001b[49m\u001b[43m)\u001b[49m\n\u001b[32m    993\u001b[39m     \u001b[38;5;28;01mfor\u001b[39;00m account \u001b[38;5;129;01min\u001b[39;00m response.get(\u001b[33m\"\u001b[39m\u001b[33mbillingAccounts\u001b[39m\u001b[33m\"\u001b[39m, []):\n\u001b[32m    994\u001b[39m         \u001b[38;5;66;03m# Extract billing account ID from resource name\u001b[39;00m\n\u001b[32m    995\u001b[39m         \u001b[38;5;66;03m# Format is \"billingAccounts/012345-567890-ABCDEF\"\u001b[39;00m\n\u001b[32m    996\u001b[39m         billing_account_id = account[\u001b[33m\"\u001b[39m\u001b[33mname\u001b[39m\u001b[33m\"\u001b[39m].split(\u001b[33m\"\u001b[39m\u001b[33m/\u001b[39m\u001b[33m\"\u001b[39m)[\u001b[32m1\u001b[39m]\n",
      "\u001b[36mFile \u001b[39m\u001b[32m~/src/pdum_gcp/.venv/lib/python3.12/site-packages/googleapiclient/_helpers.py:130\u001b[39m, in \u001b[36mpositional.<locals>.positional_decorator.<locals>.positional_wrapper\u001b[39m\u001b[34m(*args, **kwargs)\u001b[39m\n\u001b[32m    128\u001b[39m     \u001b[38;5;28;01melif\u001b[39;00m positional_parameters_enforcement == POSITIONAL_WARNING:\n\u001b[32m    129\u001b[39m         logger.warning(message)\n\u001b[32m--> \u001b[39m\u001b[32m130\u001b[39m \u001b[38;5;28;01mreturn\u001b[39;00m \u001b[43mwrapped\u001b[49m\u001b[43m(\u001b[49m\u001b[43m*\u001b[49m\u001b[43margs\u001b[49m\u001b[43m,\u001b[49m\u001b[43m \u001b[49m\u001b[43m*\u001b[49m\u001b[43m*\u001b[49m\u001b[43mkwargs\u001b[49m\u001b[43m)\u001b[49m\n",
      "\u001b[36mFile \u001b[39m\u001b[32m~/src/pdum_gcp/.venv/lib/python3.12/site-packages/googleapiclient/http.py:938\u001b[39m, in \u001b[36mHttpRequest.execute\u001b[39m\u001b[34m(self, http, num_retries)\u001b[39m\n\u001b[32m    936\u001b[39m     callback(resp)\n\u001b[32m    937\u001b[39m \u001b[38;5;28;01mif\u001b[39;00m resp.status >= \u001b[32m300\u001b[39m:\n\u001b[32m--> \u001b[39m\u001b[32m938\u001b[39m     \u001b[38;5;28;01mraise\u001b[39;00m HttpError(resp, content, uri=\u001b[38;5;28mself\u001b[39m.uri)\n\u001b[32m    939\u001b[39m \u001b[38;5;28;01mreturn\u001b[39;00m \u001b[38;5;28mself\u001b[39m.postproc(resp, content)\n",
      "\u001b[31mHttpError\u001b[39m: <HttpError 403 when requesting https://cloudbilling.googleapis.com/v1/billingAccounts?alt=json returned \"Cloud Billing API has not been used in project dogwood-theorem-316813 before or it is disabled. Enable it by visiting https://console.developers.google.com/apis/api/cloudbilling.googleapis.com/overview?project=dogwood-theorem-316813 then retry. If you enabled this API recently, wait a few minutes for the action to propagate to our systems and retry.\". Details: \"[{'@type': 'type.googleapis.com/google.rpc.ErrorInfo', 'reason': 'SERVICE_DISABLED', 'domain': 'googleapis.com', 'metadata': {'consumer': 'projects/dogwood-theorem-316813', 'service': 'cloudbilling.googleapis.com', 'serviceTitle': 'Cloud Billing API', 'activationUrl': 'https://console.developers.google.com/apis/api/cloudbilling.googleapis.com/overview?project=dogwood-theorem-316813', 'containerInfo': 'dogwood-theorem-316813'}}, {'@type': 'type.googleapis.com/google.rpc.LocalizedMessage', 'locale': 'en-US', 'message': 'Cloud Billing API has not been used in project dogwood-theorem-316813 before or it is disabled. Enable it by visiting https://console.developers.google.com/apis/api/cloudbilling.googleapis.com/overview?project=dogwood-theorem-316813 then retry. If you enabled this API recently, wait a few minutes for the action to propagate to our systems and retry.'}, {'@type': 'type.googleapis.com/google.rpc.Help', 'links': [{'description': 'Google developers console API activation', 'url': 'https://console.developers.google.com/apis/api/cloudbilling.googleapis.com/overview?project=dogwood-theorem-316813'}]}]\">"
     ]
    }
   ],
   "source": [
    "from pdum.gcp import NO_ORG\n",
    "all_accounts = NO_ORG.billing_accounts()"
   ]
  },
  {
   "cell_type": "code",
   "execution_count": 11,
   "id": "a7ecdbaa",
   "metadata": {},
   "outputs": [],
   "source": [
    "from pdum.gcp import quota_project\n",
    "\n",
    "project = quota_project()\n",
    "apis = project.enabled_apis()"
   ]
  },
  {
   "cell_type": "code",
   "execution_count": 13,
   "id": "a1e1e2bc",
   "metadata": {},
   "outputs": [
    {
     "data": {
      "text/plain": [
       "['aiplatform.googleapis.com',\n",
       " 'artifactregistry.googleapis.com',\n",
       " 'bigquery.googleapis.com',\n",
       " 'bigquerystorage.googleapis.com',\n",
       " 'cloudapis.googleapis.com',\n",
       " 'cloudresourcemanager.googleapis.com',\n",
       " 'cloudtrace.googleapis.com',\n",
       " 'compute.googleapis.com',\n",
       " 'dataflow.googleapis.com',\n",
       " 'datastore.googleapis.com',\n",
       " 'deploymentmanager.googleapis.com',\n",
       " 'firebaserules.googleapis.com',\n",
       " 'firestore.googleapis.com',\n",
       " 'generativelanguage.googleapis.com',\n",
       " 'gmail.googleapis.com',\n",
       " 'logging.googleapis.com',\n",
       " 'maps-backend.googleapis.com',\n",
       " 'monitoring.googleapis.com',\n",
       " 'notebooks.googleapis.com',\n",
       " 'oslogin.googleapis.com',\n",
       " 'servicemanagement.googleapis.com',\n",
       " 'serviceusage.googleapis.com',\n",
       " 'sql-component.googleapis.com',\n",
       " 'storage-api.googleapis.com',\n",
       " 'storage-component.googleapis.com',\n",
       " 'storage.googleapis.com',\n",
       " 'visionai.googleapis.com']"
      ]
     },
     "execution_count": 13,
     "metadata": {},
     "output_type": "execute_result"
    }
   ],
   "source": [
    "apis"
   ]
  },
  {
   "cell_type": "code",
   "execution_count": 14,
   "id": "874413e6",
   "metadata": {},
   "outputs": [
    {
     "ename": "HttpError",
     "evalue": "<HttpError 403 when requesting https://cloudbilling.googleapis.com/v1/projects/dogwood-theorem-316813/billingInfo?alt=json returned \"Cloud Billing API has not been used in project dogwood-theorem-316813 before or it is disabled. Enable it by visiting https://console.developers.google.com/apis/api/cloudbilling.googleapis.com/overview?project=dogwood-theorem-316813 then retry. If you enabled this API recently, wait a few minutes for the action to propagate to our systems and retry.\". Details: \"[{'@type': 'type.googleapis.com/google.rpc.ErrorInfo', 'reason': 'SERVICE_DISABLED', 'domain': 'googleapis.com', 'metadata': {'service': 'cloudbilling.googleapis.com', 'consumer': 'projects/dogwood-theorem-316813', 'activationUrl': 'https://console.developers.google.com/apis/api/cloudbilling.googleapis.com/overview?project=dogwood-theorem-316813', 'containerInfo': 'dogwood-theorem-316813', 'serviceTitle': 'Cloud Billing API'}}, {'@type': 'type.googleapis.com/google.rpc.LocalizedMessage', 'locale': 'en-US', 'message': 'Cloud Billing API has not been used in project dogwood-theorem-316813 before or it is disabled. Enable it by visiting https://console.developers.google.com/apis/api/cloudbilling.googleapis.com/overview?project=dogwood-theorem-316813 then retry. If you enabled this API recently, wait a few minutes for the action to propagate to our systems and retry.'}, {'@type': 'type.googleapis.com/google.rpc.Help', 'links': [{'description': 'Google developers console API activation', 'url': 'https://console.developers.google.com/apis/api/cloudbilling.googleapis.com/overview?project=dogwood-theorem-316813'}]}]\">",
     "output_type": "error",
     "traceback": [
      "\u001b[31m---------------------------------------------------------------------------\u001b[39m",
      "\u001b[31mHttpError\u001b[39m                                 Traceback (most recent call last)",
      "\u001b[36mCell\u001b[39m\u001b[36m \u001b[39m\u001b[32mIn[14]\u001b[39m\u001b[32m, line 1\u001b[39m\n\u001b[32m----> \u001b[39m\u001b[32m1\u001b[39m \u001b[43mquota_project\u001b[49m\u001b[43m(\u001b[49m\u001b[43m)\u001b[49m\u001b[43m.\u001b[49m\u001b[43mbilling_account\u001b[49m\u001b[43m(\u001b[49m\u001b[43m)\u001b[49m\n",
      "\u001b[36mFile \u001b[39m\u001b[32m~/src/pdum_gcp/src/pdum/gcp/types.py:691\u001b[39m, in \u001b[36mbilling_account\u001b[39m\u001b[34m(self, credentials)\u001b[39m\n\u001b[32m      0\u001b[39m <Error retrieving source code with stack_data see ipython/ipython#13598>\n",
      "\u001b[36mFile \u001b[39m\u001b[32m~/src/pdum_gcp/.venv/lib/python3.12/site-packages/googleapiclient/_helpers.py:130\u001b[39m, in \u001b[36mpositional.<locals>.positional_decorator.<locals>.positional_wrapper\u001b[39m\u001b[34m(*args, **kwargs)\u001b[39m\n\u001b[32m    128\u001b[39m     \u001b[38;5;28;01melif\u001b[39;00m positional_parameters_enforcement == POSITIONAL_WARNING:\n\u001b[32m    129\u001b[39m         logger.warning(message)\n\u001b[32m--> \u001b[39m\u001b[32m130\u001b[39m \u001b[38;5;28;01mreturn\u001b[39;00m \u001b[43mwrapped\u001b[49m\u001b[43m(\u001b[49m\u001b[43m*\u001b[49m\u001b[43margs\u001b[49m\u001b[43m,\u001b[49m\u001b[43m \u001b[49m\u001b[43m*\u001b[49m\u001b[43m*\u001b[49m\u001b[43mkwargs\u001b[49m\u001b[43m)\u001b[49m\n",
      "\u001b[36mFile \u001b[39m\u001b[32m~/src/pdum_gcp/.venv/lib/python3.12/site-packages/googleapiclient/http.py:938\u001b[39m, in \u001b[36mHttpRequest.execute\u001b[39m\u001b[34m(self, http, num_retries)\u001b[39m\n\u001b[32m    936\u001b[39m     callback(resp)\n\u001b[32m    937\u001b[39m \u001b[38;5;28;01mif\u001b[39;00m resp.status >= \u001b[32m300\u001b[39m:\n\u001b[32m--> \u001b[39m\u001b[32m938\u001b[39m     \u001b[38;5;28;01mraise\u001b[39;00m HttpError(resp, content, uri=\u001b[38;5;28mself\u001b[39m.uri)\n\u001b[32m    939\u001b[39m \u001b[38;5;28;01mreturn\u001b[39;00m \u001b[38;5;28mself\u001b[39m.postproc(resp, content)\n",
      "\u001b[31mHttpError\u001b[39m: <HttpError 403 when requesting https://cloudbilling.googleapis.com/v1/projects/dogwood-theorem-316813/billingInfo?alt=json returned \"Cloud Billing API has not been used in project dogwood-theorem-316813 before or it is disabled. Enable it by visiting https://console.developers.google.com/apis/api/cloudbilling.googleapis.com/overview?project=dogwood-theorem-316813 then retry. If you enabled this API recently, wait a few minutes for the action to propagate to our systems and retry.\". Details: \"[{'@type': 'type.googleapis.com/google.rpc.ErrorInfo', 'reason': 'SERVICE_DISABLED', 'domain': 'googleapis.com', 'metadata': {'service': 'cloudbilling.googleapis.com', 'consumer': 'projects/dogwood-theorem-316813', 'activationUrl': 'https://console.developers.google.com/apis/api/cloudbilling.googleapis.com/overview?project=dogwood-theorem-316813', 'containerInfo': 'dogwood-theorem-316813', 'serviceTitle': 'Cloud Billing API'}}, {'@type': 'type.googleapis.com/google.rpc.LocalizedMessage', 'locale': 'en-US', 'message': 'Cloud Billing API has not been used in project dogwood-theorem-316813 before or it is disabled. Enable it by visiting https://console.developers.google.com/apis/api/cloudbilling.googleapis.com/overview?project=dogwood-theorem-316813 then retry. If you enabled this API recently, wait a few minutes for the action to propagate to our systems and retry.'}, {'@type': 'type.googleapis.com/google.rpc.Help', 'links': [{'description': 'Google developers console API activation', 'url': 'https://console.developers.google.com/apis/api/cloudbilling.googleapis.com/overview?project=dogwood-theorem-316813'}]}]\">"
     ]
    }
   ],
   "source": [
    "quota_project().billing_account()"
   ]
  },
  {
   "cell_type": "code",
   "execution_count": 16,
   "id": "ace2124b",
   "metadata": {},
   "outputs": [
    {
     "name": "stdout",
     "output_type": "stream",
     "text": [
      "admin-74726 - grtig-horizons.com\n",
      "dogwood-theorem-316813 - No Organization\n",
      "texttospeech-263822 - No Organization\n"
     ]
    }
   ],
   "source": [
    "from pdum.gcp import walk_projects\n",
    "\n",
    "for project in walk_projects():\n",
    "    print(f\"{project.id} - {project.parent.display_name}\")"
   ]
  },
  {
   "cell_type": "code",
   "execution_count": 17,
   "id": "b853552b",
   "metadata": {},
   "outputs": [],
   "source": [
    "from pdum.gcp import Project"
   ]
  },
  {
   "cell_type": "code",
   "execution_count": 19,
   "id": "ac99f4aa",
   "metadata": {},
   "outputs": [
    {
     "data": {
      "text/plain": [
       "'delightful-turtle'"
      ]
     },
     "execution_count": 19,
     "metadata": {},
     "output_type": "execute_result"
    }
   ],
   "source": [
    "Project.suggest_name(random_digits=0)"
   ]
  },
  {
   "cell_type": "code",
   "execution_count": null,
   "id": "457ecf2f",
   "metadata": {},
   "outputs": [],
   "source": []
  },
  {
   "cell_type": "code",
   "execution_count": 1,
   "id": "2b59894f",
   "metadata": {},
   "outputs": [
    {
     "name": "stdout",
     "output_type": "stream",
     "text": [
      "compute.googleapis.com\n",
      "bigquery.googleapis.com\n",
      "storage-component.googleapis.com\n"
     ]
    }
   ],
   "source": [
    "from pdum.gcp import lookup_api\n",
    "\n",
    "# Exact match\n",
    "api_id = lookup_api(\"Compute Engine API\")\n",
    "print(api_id)  # compute.googleapis.com\n",
    "\n",
    "# Fuzzy match\n",
    "api_id = lookup_api(\"Big Query\")\n",
    "print(api_id)  # bigquery.googleapis.com\n",
    "\n",
    "# Normalized match (removes \"Cloud\")\n",
    "api_id = lookup_api(\"Storage\")\n",
    "print(api_id)  # storage.googleapis.com\n",
    "\n",
    "# Error handling:\n",
    "from pdum.gcp import lookup_api, APIResolutionError\n",
    "\n",
    "try:\n",
    "    api_id = lookup_api(\"Cloud\")  # Too ambiguous\n",
    "except APIResolutionError as e:\n",
    "    print(f\"Error: {e}\")\n",
    "    # Error: Multiple close matches found for 'Cloud'. Please be more specific.\n",
    "    # Did you mean one of these: Cloud Storage API, Cloud Build API, ..."
   ]
  },
  {
   "cell_type": "code",
   "execution_count": 7,
   "id": "6dadeb50",
   "metadata": {},
   "outputs": [],
   "source": [
    "api_id = lookup_api(\"Compute Engine API\")"
   ]
  },
  {
   "cell_type": "code",
   "execution_count": 8,
   "id": "0db8541f",
   "metadata": {},
   "outputs": [
    {
     "data": {
      "text/plain": [
       "'compute.googleapis.com'"
      ]
     },
     "execution_count": 8,
     "metadata": {},
     "output_type": "execute_result"
    }
   ],
   "source": [
    "api_id"
   ]
  },
  {
   "cell_type": "code",
   "execution_count": null,
   "id": "fa87c1ba",
   "metadata": {},
   "outputs": [],
   "source": []
  }
 ],
 "metadata": {
  "kernelspec": {
   "display_name": "habemus-papadum-gcp",
   "language": "python",
   "name": "python3"
  },
  "language_info": {
   "codemirror_mode": {
    "name": "ipython",
    "version": 3
   },
   "file_extension": ".py",
   "mimetype": "text/x-python",
   "name": "python",
   "nbconvert_exporter": "python",
   "pygments_lexer": "ipython3",
   "version": "3.12.11"
  }
 },
 "nbformat": 4,
 "nbformat_minor": 5
}
