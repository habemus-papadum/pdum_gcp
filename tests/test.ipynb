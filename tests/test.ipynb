{
 "cells": [
  {
   "cell_type": "code",
   "execution_count": 1,
   "id": "cd4b85eb",
   "metadata": {},
   "outputs": [],
   "source": [
    "%load_ext autoreload\n",
    "%autoreload 2"
   ]
  },
  {
   "cell_type": "code",
   "execution_count": 1,
   "id": "ce3ea315",
   "metadata": {},
   "outputs": [],
   "source": [
    "  # Direct import\n",
    "from pdum.gcp.admin import get_email, list_organizations\n"
   ]
  },
  {
   "cell_type": "code",
   "execution_count": 2,
   "id": "d2407413",
   "metadata": {},
   "outputs": [
    {
     "data": {
      "text/plain": [
       "'nehal.alum@gmail.com'"
      ]
     },
     "execution_count": 2,
     "metadata": {},
     "output_type": "execute_result"
    }
   ],
   "source": [
    "get_email()\n"
   ]
  },
  {
   "cell_type": "code",
   "execution_count": 3,
   "id": "bab43d40",
   "metadata": {},
   "outputs": [
    {
     "name": "stdout",
     "output_type": "stream",
     "text": [
      "Found 2 organization(s)/container(s):\n",
      "\n",
      "🌺 grtig-horizons.com (organizations/18100153825)\n",
      "├── 🎸 Test (folders/673571045739)\n",
      "├── 🎵 admin-74726 (ACTIVE)\n",
      "├── 🎵 h-papadum-admin-9ada15f8 (DELETE_REQUESTED)\n",
      "└── 🎵 striking-lane-476720-t0 (DELETE_REQUESTED)\n",
      "\n",
      "🐞 No Organization (NO_ORG)\n",
      "├── 🎵 h-papadum-admin-9b1b3b9b (DELETE_REQUESTED)\n",
      "├── 🎵 oxygen-409914 (DELETE_REQUESTED)\n",
      "├── 🎵 dogwood-theorem-316813 (ACTIVE)\n",
      "└── 🎵 texttospeech-263822 (ACTIVE)\n",
      "\n"
     ]
    }
   ],
   "source": [
    "organizations = list_organizations()\n",
    "\n",
    "if not organizations:\n",
    "    print(\"No organizations found. You may not have access to any GCP organizations.\")\n",
    "else:\n",
    "    print(f\"Found {len(organizations)} organization(s)/container(s):\\n\")\n",
    "\n",
    "    for org in organizations:\n",
    "        org.tree()\n",
    "        print()  # Add spacing between organizations"
   ]
  },
  {
   "cell_type": "code",
   "execution_count": null,
   "id": "2027fc78",
   "metadata": {},
   "outputs": [],
   "source": []
  }
 ],
 "metadata": {
  "kernelspec": {
   "display_name": "habemus-papadum-gcp",
   "language": "python",
   "name": "python3"
  },
  "language_info": {
   "codemirror_mode": {
    "name": "ipython",
    "version": 3
   },
   "file_extension": ".py",
   "mimetype": "text/x-python",
   "name": "python",
   "nbconvert_exporter": "python",
   "pygments_lexer": "ipython3",
   "version": "3.12.11"
  }
 },
 "nbformat": 4,
 "nbformat_minor": 5
}
