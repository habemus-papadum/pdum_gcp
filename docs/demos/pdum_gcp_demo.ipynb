{
  "cells": [
    {
      "cell_type": "markdown",
      "metadata": {},
      "source": [
        "# pdum.gcp Interactive Tour\n",
        "\n",
        "> A hands-on walkthrough of the public API for the `pdum.gcp` package.\n",
        "\n",
        "Important:\n",
        "- This notebook contains both read-only and mutation examples.\n",
        "- Only run mutation cells at the end and only if you understand the consequences.\n",
        "- You must have Application Default Credentials (ADC) configured (e.g., `gcloud auth application-default login`).\n",
        "\n",
        "Mutation Disclaimer:\n",
        "- Enabling APIs or creating projects may incur costs or change production state.\n",
        "- The final section includes a simple `RUN_MUTATIONS` guard for safety. Set it to `True` only when you're ready."
      ]
    },
    {
      "cell_type": "code",
      "execution_count": null,
      "metadata": {},
      "outputs": [],
      "source": [
        "# Core imports\n",
        "from pdum.gcp import (\n",
        "    __version__,\n",
        "    get_email,\n",
        "    get_iam_policy,\n",
        "    list_organizations,\n",
        "    lookup_api,\n",
        "    quota_project,\n",
        "    walk_projects,\n",
        "    NO_ORG,\n",
        "    NO_BILLING_ACCOUNT,\n",
        "    Organization,\n",
        "    Folder,\n",
        "    Project,\n",
        ")\n",
        "print(\"pdum.gcp version:\", __version__)"
      ]
    },
    {
      "cell_type": "markdown",
      "metadata": {},
      "source": [
        "## Identity\n",
        "Use the currently active ADC to discover the acting identity (email)."
      ]
    },
    {
      "cell_type": "code",
      "execution_count": null,
      "metadata": {},
      "outputs": [],
      "source": [
        "email = get_email()\n",
        "print(\"Active identity:\", email)"
      ]
    },
    {
      "cell_type": "markdown",
      "metadata": {},
      "source": [
        "## Organizations\n",
        "List organizations accessible to this identity. If you have standalone projects (no org), `NO_ORG` will be included."
      ]
    },
    {
      "cell_type": "code",
      "execution_count": null,
      "metadata": {},
      "outputs": [],
      "source": [
        "orgs = list_organizations()\n",
        "print(\"Found\", len(orgs), \"container(s)\")\n",
        "for o in orgs:\n",
        "    print(f\"- {o.display_name} ({o.resource_name})\")"
      ]
    },
    {
      "cell_type": "markdown",
      "metadata": {},
      "source": [
        "Pick an organization to explore. If you only have `NO_ORG`, some steps will be skipped or use `NO_ORG` paths."
      ]
    },
    {
      "cell_type": "code",
      "execution_count": null,
      "metadata": {},
      "outputs": [],
      "source": [
        "org = next((o for o in orgs if isinstance(o, Organization)), NO_ORG)\n",
        "print(\"Selected container:\", org.display_name, org.resource_name)"
      ]
    },
    {
      "cell_type": "markdown",
      "metadata": {},
      "source": [
        "## Exploring the container\n",
        "Explore folders and projects; `tree()` prints a visual hierarchy (read-only)."
      ]
    },
    {
      "cell_type": "code",
      "execution_count": null,
      "metadata": {},
      "outputs": [],
      "source": [
        "# Folders (direct children)\n",
        "try:\n",
        "    folders = org.folders()\n",
        "    print(\"Folders:\", [f.display_name for f in folders])\n",
        "except Exception as e:\n",
        "    print(\"No folders or error listing folders:\", e)\n",
        "\n",
        "# Projects (direct children)\n",
        "try:\n",
        "    projs = org.projects()\n",
        "    print(\"Projects:\", [p.id for p in projs])\n",
        "except Exception as e:\n",
        "    print(\"No projects or error listing projects:\", e)\n",
        "\n",
        "# Visual tree (read-only pretty print)\n",
        "org.tree()"
      ]
    },
    {
      "cell_type": "markdown",
      "metadata": {},
      "source": [
        "## Navigation via cd()\n",
        "Navigate folders by path (if you have folders)."
      ]
    },
    {
      "cell_type": "code",
      "execution_count": null,
      "metadata": {},
      "outputs": [],
      "source": [
        "# Example: adjust the path to a real one in your org\n",
        "try:\n",
        "    maybe_folder = org.cd(\"Test\")\n",
        "    print(\"Navigated to:\", maybe_folder.display_name, maybe_folder.resource_name)\n",
        "except Exception as e:\n",
        "    print(\"cd() example skipped or failed:\", e)"
      ]
    },
    {
      "cell_type": "markdown",
      "metadata": {},
      "source": [
        "## Projects without Organization\n",
        "If you have personal/standalone projects, they appear under `NO_ORG`."
      ]
    },
    {
      "cell_type": "code",
      "execution_count": null,
      "metadata": {},
      "outputs": [],
      "source": [
        "no_org_projects = NO_ORG.projects()\n",
        "print(\"NO_ORG projects:\", [p.id for p in no_org_projects])"
      ]
    },
    {
      "cell_type": "markdown",
      "metadata": {},
      "source": [
        "## Quota Project & Enabled APIs\n",
        "Find your quota project from ADC, and list its enabled APIs (read-only)."
      ]
    },
    {
      "cell_type": "code",
      "execution_count": null,
      "metadata": {},
      "outputs": [],
      "source": [
        "qp = quota_project()\n",
        "print(\"Quota project:\", qp.id, qp.lifecycle_state)\n",
        "enabled = qp.enabled_apis()\n",
        "print(\"Enabled APIs (first 10):\", enabled[:10])"
      ]
    },
    {
      "cell_type": "markdown",
      "metadata": {},
      "source": [
        "## IAM Policy & Roles\n",
        "Use the top-level helper to fetch IAM policy for any Resource, and list roles bound to the current user."
      ]
    },
    {
      "cell_type": "code",
      "execution_count": null,
      "metadata": {},
      "outputs": [],
      "source": [
        "# Policy for the selected container\n",
        "policy = get_iam_policy(org)\n",
        "print(\"Bindings:\", len(policy.get('bindings', [])))\n",
        "\n",
        "# Roles for current user on container and on quota project\n",
        "container_roles = org.list_roles()\n",
        "project_roles = qp.list_roles()\n",
        "print(\"Container roles:\", [r.name for r in container_roles])\n",
        "print(\"Project roles:\", [r.name for r in project_roles])"
      ]
    },
    {
      "cell_type": "code",
      "execution_count": null,
      "id": "6410ce4f",
      "metadata": {},
      "outputs": [],
      "source": [
        "policy"
      ]
    },
    {
      "cell_type": "markdown",
      "metadata": {},
      "source": [
        "## API Lookup\n",
        "Map human-friendly API names to service IDs."
      ]
    },
    {
      "cell_type": "code",
      "execution_count": null,
      "metadata": {},
      "outputs": [],
      "source": [
        "print(lookup_api(\"Compute Engine API\"))\n",
        "print(lookup_api(\"Big Query\"))"
      ]
    },
    {
      "cell_type": "markdown",
      "id": "61ccb96b",
      "metadata": {},
      "source": [
        "# Billing Accounts"
      ]
    },
    {
      "cell_type": "code",
      "execution_count": null,
      "id": "e2377ca9",
      "metadata": {},
      "outputs": [],
      "source": [
        "org.billing_accounts()"
      ]
    },
    {
      "cell_type": "code",
      "execution_count": null,
      "id": "d5761c57",
      "metadata": {},
      "outputs": [],
      "source": [
        "org.billing_accounts(open_only=False)"
      ]
    },
    {
      "cell_type": "code",
      "execution_count": null,
      "id": "1b96c091",
      "metadata": {},
      "outputs": [],
      "source": [
        "NO_ORG.billing_accounts(open_only=False)"
      ]
    },
    {
      "cell_type": "code",
      "execution_count": null,
      "id": "47b04cbb",
      "metadata": {},
      "outputs": [],
      "source": [
        "bill_api = lookup_api(\"Cloud Billing API\")\n",
        "print(\"Cloud Billing API ID:\", bill_api)"
      ]
    },
    {
      "cell_type": "markdown",
      "metadata": {},
      "source": [
        "---\n",
        "# Mutations (Run Carefully, Optional)\n",
        "The following cells mutate GCP state. Review carefully before running."
      ]
    },
    {
      "cell_type": "code",
      "execution_count": null,
      "metadata": {},
      "outputs": [],
      "source": [
        "RUN_MUTATIONS = False  # set to True only if you understand the consequences\n",
        "print(\"RUN_MUTATIONS =\", RUN_MUTATIONS)"
      ]
    },
    {
      "cell_type": "markdown",
      "metadata": {},
      "source": [
        "## Enable APIs for a Project\n",
        "Batch-enable a set of APIs on the quota project (or another project)."
      ]
    },
    {
      "cell_type": "code",
      "execution_count": null,
      "metadata": {},
      "outputs": [],
      "source": [
        "apis_to_enable = [\n",
        "    lookup_api(\"Compute Engine API\"),\n",
        "    lookup_api(\"Cloud Resource Manager API\"),\n",
        "]\n",
        "if RUN_MUTATIONS:\n",
        "    result = qp.enable_apis(apis_to_enable, verbose=True, timeout=300)\n",
        "    print(\"Enable APIs operation done:\", result.get(\"done\"))\n",
        "else:\n",
        "    print(\"Skipping API enablement mutation (set RUN_MUTATIONS=True to run)\")"
      ]
    },
    {
      "cell_type": "markdown",
      "metadata": {},
      "source": [
        "## Create a Project\n",
        "Create a new project under the selected container (`org` or `NO_ORG`). Optionally attach billing."
      ]
    },
    {
      "cell_type": "code",
      "execution_count": null,
      "metadata": {},
      "outputs": [],
      "source": [
        "new_project_id = Project.suggest_name(prefix=\"demo\")  # or pick your own\n",
        "new_display_name = \"Demo Project\"\n",
        "# Provide a billing account id to attach, or use NO_BILLING_ACCOUNT to skip\n",
        "billing = NO_BILLING_ACCOUNT  # or: BillingAccount(id=\"012345-567890-ABCDEF\", display_name=\"My Billing\")\n",
        "\n",
        "if RUN_MUTATIONS:\n",
        "    created = org.create_project(\n",
        "        new_project_id,\n",
        "        new_display_name,\n",
        "        billing_account=billing,\n",
        "        timeout=600,\n",
        "        polling_interval=5,\n",
        "    )\n",
        "    print(\"Created project:\", created.id, created.lifecycle_state)\n",
        "else:\n",
        "    print(\"Skipping project creation (set RUN_MUTATIONS=True to run)\")"
      ]
    }
  ],
  "metadata": {
    "kernelspec": {
      "display_name": "habemus-papadum-gcp",
      "language": "python",
      "name": "python3"
    },
    "language_info": {
      "codemirror_mode": {
        "name": "ipython",
        "version": 3
      },
      "file_extension": ".py",
      "mimetype": "text/x-python",
      "name": "python",
      "nbconvert_exporter": "python",
      "pygments_lexer": "ipython3",
      "version": "3.12.11"
    }
  },
  "nbformat": 4,
  "nbformat_minor": 5
}
