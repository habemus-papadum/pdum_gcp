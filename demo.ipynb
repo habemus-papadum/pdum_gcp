{
 "cells": [
  {
   "cell_type": "code",
   "execution_count": 1,
   "id": "e022bc17",
   "metadata": {},
   "outputs": [
    {
     "name": "stdout",
     "output_type": "stream",
     "text": [
      "Admin bot email: admin-robot@h-papadum-admin-9b1b3b9b.iam.gserviceaccount.com\n",
      "Project ID: h-papadum-admin-9b1b3b9b\n",
      "Trusted humans: ['nehal.alum@gmail.com']\n",
      "\n",
      "Found 1 billing accounts\n",
      "  ISC: 016EF2-C9E743-5BA3D3 (open=True)\n"
     ]
    }
   ],
   "source": [
    "import pdum.gcp.admin as admin\n",
    "\n",
    "# Load credentials\n",
    "creds = admin.load_admin_credentials()\n",
    "\n",
    "print(f\"Admin bot email: {creds.admin_bot_email}\")\n",
    "print(f\"Project ID: {creds.project_id}\")\n",
    "print(f\"Trusted humans: {creds.trusted_humans}\")\n",
    "print()\n",
    "\n",
    "# Try to list billing accounts with error handling\n",
    "try:\n",
    "    billing_accounts = creds.list_billing_accounts()\n",
    "    print(f\"Found {len(billing_accounts)} billing accounts\")\n",
    "    for account in billing_accounts:\n",
    "        print(f\"  {account.display_name}: {account.account_id} (open={account.open})\")\n",
    "except Exception as e:\n",
    "    print(f\"Error listing billing accounts: {e}\")\n",
    "    import traceback\n",
    "    traceback.print_exc()"
   ]
  },
  {
   "cell_type": "code",
   "execution_count": 2,
   "id": "5504a6fd",
   "metadata": {},
   "outputs": [
    {
     "name": "stdout",
     "output_type": "stream",
     "text": [
      "gcloud (human credentials) sees 3 billing accounts:\n",
      "  ISC: 016EF2-C9E743-5BA3D3 (open=True)\n",
      "  My Billing Account: 017525-5631A5-F1195C (open=False)\n",
      "  Nehal: 01DA2C-8306EE-8C3D84 (open=True)\n"
     ]
    }
   ],
   "source": [
    "# Compare with what gcloud sees (using your human credentials)\n",
    "import subprocess\n",
    "import json\n",
    "\n",
    "result = subprocess.run(\n",
    "    [\"gcloud\", \"billing\", \"accounts\", \"list\", \"--format=json\"],\n",
    "    capture_output=True,\n",
    "    text=True\n",
    ")\n",
    "\n",
    "if result.returncode == 0:\n",
    "    accounts = json.loads(result.stdout)\n",
    "    print(f\"gcloud (human credentials) sees {len(accounts)} billing accounts:\")\n",
    "    for account in accounts:\n",
    "        print(f\"  {account['displayName']}: {account['name'].replace('billingAccounts/', '')} (open={account['open']})\")\n",
    "else:\n",
    "    print(f\"gcloud error: {result.stderr}\")"
   ]
  },
  {
   "cell_type": "code",
   "execution_count": null,
   "id": "7b711adc",
   "metadata": {},
   "outputs": [],
   "source": []
  }
 ],
 "metadata": {
  "kernelspec": {
   "display_name": "habemus-papadum-gcp",
   "language": "python",
   "name": "python3"
  },
  "language_info": {
   "codemirror_mode": {
    "name": "ipython",
    "version": 3
   },
   "file_extension": ".py",
   "mimetype": "text/x-python",
   "name": "python",
   "nbconvert_exporter": "python",
   "pygments_lexer": "ipython3",
   "version": "3.12.11"
  }
 },
 "nbformat": 4,
 "nbformat_minor": 5
}
