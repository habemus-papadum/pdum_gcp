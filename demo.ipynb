{
 "cells": [
  {
   "cell_type": "code",
   "execution_count": 1,
   "id": "e022bc17",
   "metadata": {},
   "outputs": [
    {
     "name": "stdout",
     "output_type": "stream",
     "text": [
      "Admin bot email: admin-robot@h-papadum-admin-9b1b3b9b.iam.gserviceaccount.com\n",
      "Project ID: h-papadum-admin-9b1b3b9b\n",
      "Trusted humans: ['nehal.alum@gmail.com']\n",
      "\n",
      "============================================================\n",
      "All Billing Accounts:\n",
      "============================================================\n",
      "Found 1 billing accounts\n",
      "  [✓ OPEN] ISC: 016EF2-C9E743-5BA3D3\n",
      "\n",
      "============================================================\n",
      "Default Billing Account:\n",
      "============================================================\n",
      "Default: ISC (016EF2-C9E743-5BA3D3)\n",
      "Status: OPEN\n"
     ]
    }
   ],
   "source": [
    "import pdum.gcp.admin as admin\n",
    "\n",
    "# Load credentials\n",
    "creds = admin.load_admin_credentials()\n",
    "\n",
    "print(f\"Admin bot email: {creds.admin_bot_email}\")\n",
    "print(f\"Project ID: {creds.project_id}\")\n",
    "print(f\"Trusted humans: {creds.trusted_humans}\")\n",
    "print()\n",
    "\n",
    "# List all billing accounts\n",
    "print(\"=\" * 60)\n",
    "print(\"All Billing Accounts:\")\n",
    "print(\"=\" * 60)\n",
    "try:\n",
    "    billing_accounts = creds.list_billing_accounts()\n",
    "    print(f\"Found {len(billing_accounts)} billing accounts\")\n",
    "    for account in billing_accounts:\n",
    "        status = \"✓ OPEN\" if account.open else \"✗ CLOSED\"\n",
    "        print(f\"  [{status}] {account.display_name}: {account.account_id}\")\n",
    "except Exception as e:\n",
    "    print(f\"Error listing billing accounts: {e}\")\n",
    "\n",
    "print()\n",
    "\n",
    "# Try to get default billing account\n",
    "print(\"=\" * 60)\n",
    "print(\"Default Billing Account:\")\n",
    "print(\"=\" * 60)\n",
    "try:\n",
    "    default_account = creds.get_default_billing_account()\n",
    "    print(f\"Default: {default_account.display_name} ({default_account.account_id})\")\n",
    "    print(f\"Status: {'OPEN' if default_account.open else 'CLOSED'}\")\n",
    "except admin.AdminCredentialsError as e:\n",
    "    print(f\"Cannot determine default billing account:\")\n",
    "    print(f\"  {e}\")"
   ]
  },
  {
   "cell_type": "code",
   "execution_count": null,
   "id": "7b711adc",
   "metadata": {},
   "outputs": [],
   "source": []
  }
 ],
 "metadata": {
  "kernelspec": {
   "display_name": "habemus-papadum-gcp",
   "language": "python",
   "name": "python3"
  },
  "language_info": {
   "codemirror_mode": {
    "name": "ipython",
    "version": 3
   },
   "file_extension": ".py",
   "mimetype": "text/x-python",
   "name": "python",
   "nbconvert_exporter": "python",
   "pygments_lexer": "ipython3",
   "version": "3.12.11"
  }
 },
 "nbformat": 4,
 "nbformat_minor": 5
}
