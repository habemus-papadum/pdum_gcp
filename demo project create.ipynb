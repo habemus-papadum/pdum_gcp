{
 "cells": [
  {
   "cell_type": "code",
   "execution_count": 1,
   "id": "88d307f8",
   "metadata": {},
   "outputs": [],
   "source": [
    "%load_ext autoreload\n",
    "%autoreload 2"
   ]
  },
  {
   "cell_type": "code",
   "execution_count": 2,
   "id": "53f534f0",
   "metadata": {},
   "outputs": [],
   "source": [
    "import pdum.gcp.admin as admin\n",
    "\n",
    "# Load credentials\n",
    "creds = admin.load_admin_credentials()\n"
   ]
  },
  {
   "cell_type": "markdown",
   "id": "jeplnarmz7",
   "metadata": {},
   "source": [
    "# Create Project Example\n",
    "\n",
    "The `create_project()` method creates a complete GCP project with:\n",
    "- Billing account linked\n",
    "- Service account (`admin-robot`)\n",
    "- IAM roles (owner for service account + trusted humans)\n",
    "- APIs enabled (defaults to ML-focused APIs)\n",
    "\n",
    "**Note:** Uncomment the code below to actually create a project. Make sure to use a unique project ID!"
   ]
  },
  {
   "cell_type": "code",
   "execution_count": 3,
   "id": "2mqwhwijqig",
   "metadata": {},
   "outputs": [
    {
     "ename": "AdminCredentialsError",
     "evalue": "Failed to create project test-project-asx12345: 403 Service accounts cannot create projects without a parent.",
     "output_type": "error",
     "traceback": [
      "\u001b[31m---------------------------------------------------------------------------\u001b[39m",
      "\u001b[31m_InactiveRpcError\u001b[39m                         Traceback (most recent call last)",
      "\u001b[36mFile \u001b[39m\u001b[32m~/src/pdum_gcp/.venv/lib/python3.12/site-packages/google/api_core/grpc_helpers.py:75\u001b[39m, in \u001b[36m_wrap_unary_errors.<locals>.error_remapped_callable\u001b[39m\u001b[34m(*args, **kwargs)\u001b[39m\n\u001b[32m     74\u001b[39m \u001b[38;5;28;01mtry\u001b[39;00m:\n\u001b[32m---> \u001b[39m\u001b[32m75\u001b[39m     \u001b[38;5;28;01mreturn\u001b[39;00m \u001b[43mcallable_\u001b[49m\u001b[43m(\u001b[49m\u001b[43m*\u001b[49m\u001b[43margs\u001b[49m\u001b[43m,\u001b[49m\u001b[43m \u001b[49m\u001b[43m*\u001b[49m\u001b[43m*\u001b[49m\u001b[43mkwargs\u001b[49m\u001b[43m)\u001b[49m\n\u001b[32m     76\u001b[39m \u001b[38;5;28;01mexcept\u001b[39;00m grpc.RpcError \u001b[38;5;28;01mas\u001b[39;00m exc:\n",
      "\u001b[36mFile \u001b[39m\u001b[32m~/src/pdum_gcp/.venv/lib/python3.12/site-packages/grpc/_interceptor.py:276\u001b[39m, in \u001b[36m_UnaryUnaryMultiCallable.__call__\u001b[39m\u001b[34m(self, request, timeout, metadata, credentials, wait_for_ready, compression)\u001b[39m\n\u001b[32m    267\u001b[39m \u001b[38;5;28;01mdef\u001b[39;00m\u001b[38;5;250m \u001b[39m\u001b[34m__call__\u001b[39m(\n\u001b[32m    268\u001b[39m     \u001b[38;5;28mself\u001b[39m,\n\u001b[32m    269\u001b[39m     request: Any,\n\u001b[32m   (...)\u001b[39m\u001b[32m    274\u001b[39m     compression: Optional[grpc.Compression] = \u001b[38;5;28;01mNone\u001b[39;00m,\n\u001b[32m    275\u001b[39m ) -> Any:\n\u001b[32m--> \u001b[39m\u001b[32m276\u001b[39m     response, ignored_call = \u001b[38;5;28;43mself\u001b[39;49m\u001b[43m.\u001b[49m\u001b[43m_with_call\u001b[49m\u001b[43m(\u001b[49m\n\u001b[32m    277\u001b[39m \u001b[43m        \u001b[49m\u001b[43mrequest\u001b[49m\u001b[43m,\u001b[49m\n\u001b[32m    278\u001b[39m \u001b[43m        \u001b[49m\u001b[43mtimeout\u001b[49m\u001b[43m=\u001b[49m\u001b[43mtimeout\u001b[49m\u001b[43m,\u001b[49m\n\u001b[32m    279\u001b[39m \u001b[43m        \u001b[49m\u001b[43mmetadata\u001b[49m\u001b[43m=\u001b[49m\u001b[43mmetadata\u001b[49m\u001b[43m,\u001b[49m\n\u001b[32m    280\u001b[39m \u001b[43m        \u001b[49m\u001b[43mcredentials\u001b[49m\u001b[43m=\u001b[49m\u001b[43mcredentials\u001b[49m\u001b[43m,\u001b[49m\n\u001b[32m    281\u001b[39m \u001b[43m        \u001b[49m\u001b[43mwait_for_ready\u001b[49m\u001b[43m=\u001b[49m\u001b[43mwait_for_ready\u001b[49m\u001b[43m,\u001b[49m\n\u001b[32m    282\u001b[39m \u001b[43m        \u001b[49m\u001b[43mcompression\u001b[49m\u001b[43m=\u001b[49m\u001b[43mcompression\u001b[49m\u001b[43m,\u001b[49m\n\u001b[32m    283\u001b[39m \u001b[43m    \u001b[49m\u001b[43m)\u001b[49m\n\u001b[32m    284\u001b[39m     \u001b[38;5;28;01mreturn\u001b[39;00m response\n",
      "\u001b[36mFile \u001b[39m\u001b[32m~/src/pdum_gcp/.venv/lib/python3.12/site-packages/grpc/_interceptor.py:331\u001b[39m, in \u001b[36m_UnaryUnaryMultiCallable._with_call\u001b[39m\u001b[34m(self, request, timeout, metadata, credentials, wait_for_ready, compression)\u001b[39m\n\u001b[32m    328\u001b[39m call = \u001b[38;5;28mself\u001b[39m._interceptor.intercept_unary_unary(\n\u001b[32m    329\u001b[39m     continuation, client_call_details, request\n\u001b[32m    330\u001b[39m )\n\u001b[32m--> \u001b[39m\u001b[32m331\u001b[39m \u001b[38;5;28;01mreturn\u001b[39;00m \u001b[43mcall\u001b[49m\u001b[43m.\u001b[49m\u001b[43mresult\u001b[49m\u001b[43m(\u001b[49m\u001b[43m)\u001b[49m, call\n",
      "\u001b[36mFile \u001b[39m\u001b[32m~/src/pdum_gcp/.venv/lib/python3.12/site-packages/grpc/_channel.py:438\u001b[39m, in \u001b[36m_InactiveRpcError.result\u001b[39m\u001b[34m(self, timeout)\u001b[39m\n\u001b[32m    437\u001b[39m \u001b[38;5;250m\u001b[39m\u001b[33;03m\"\"\"See grpc.Future.result.\"\"\"\u001b[39;00m\n\u001b[32m--> \u001b[39m\u001b[32m438\u001b[39m \u001b[38;5;28;01mraise\u001b[39;00m \u001b[38;5;28mself\u001b[39m\n",
      "\u001b[36mFile \u001b[39m\u001b[32m~/src/pdum_gcp/.venv/lib/python3.12/site-packages/grpc/_interceptor.py:314\u001b[39m, in \u001b[36m_UnaryUnaryMultiCallable._with_call.<locals>.continuation\u001b[39m\u001b[34m(new_details, request)\u001b[39m\n\u001b[32m    313\u001b[39m \u001b[38;5;28;01mtry\u001b[39;00m:\n\u001b[32m--> \u001b[39m\u001b[32m314\u001b[39m     response, call = \u001b[38;5;28;43mself\u001b[39;49m\u001b[43m.\u001b[49m\u001b[43m_thunk\u001b[49m\u001b[43m(\u001b[49m\u001b[43mnew_method\u001b[49m\u001b[43m)\u001b[49m\u001b[43m.\u001b[49m\u001b[43mwith_call\u001b[49m\u001b[43m(\u001b[49m\n\u001b[32m    315\u001b[39m \u001b[43m        \u001b[49m\u001b[43mrequest\u001b[49m\u001b[43m,\u001b[49m\n\u001b[32m    316\u001b[39m \u001b[43m        \u001b[49m\u001b[43mtimeout\u001b[49m\u001b[43m=\u001b[49m\u001b[43mnew_timeout\u001b[49m\u001b[43m,\u001b[49m\n\u001b[32m    317\u001b[39m \u001b[43m        \u001b[49m\u001b[43mmetadata\u001b[49m\u001b[43m=\u001b[49m\u001b[43mnew_metadata\u001b[49m\u001b[43m,\u001b[49m\n\u001b[32m    318\u001b[39m \u001b[43m        \u001b[49m\u001b[43mcredentials\u001b[49m\u001b[43m=\u001b[49m\u001b[43mnew_credentials\u001b[49m\u001b[43m,\u001b[49m\n\u001b[32m    319\u001b[39m \u001b[43m        \u001b[49m\u001b[43mwait_for_ready\u001b[49m\u001b[43m=\u001b[49m\u001b[43mnew_wait_for_ready\u001b[49m\u001b[43m,\u001b[49m\n\u001b[32m    320\u001b[39m \u001b[43m        \u001b[49m\u001b[43mcompression\u001b[49m\u001b[43m=\u001b[49m\u001b[43mnew_compression\u001b[49m\u001b[43m,\u001b[49m\n\u001b[32m    321\u001b[39m \u001b[43m    \u001b[49m\u001b[43m)\u001b[49m\n\u001b[32m    322\u001b[39m     \u001b[38;5;28;01mreturn\u001b[39;00m _UnaryOutcome(response, call)\n",
      "\u001b[36mFile \u001b[39m\u001b[32m~/src/pdum_gcp/.venv/lib/python3.12/site-packages/grpc/_channel.py:1180\u001b[39m, in \u001b[36m_UnaryUnaryMultiCallable.with_call\u001b[39m\u001b[34m(self, request, timeout, metadata, credentials, wait_for_ready, compression)\u001b[39m\n\u001b[32m   1177\u001b[39m state, call = \u001b[38;5;28mself\u001b[39m._blocking(\n\u001b[32m   1178\u001b[39m     request, timeout, metadata, credentials, wait_for_ready, compression\n\u001b[32m   1179\u001b[39m )\n\u001b[32m-> \u001b[39m\u001b[32m1180\u001b[39m \u001b[38;5;28;01mreturn\u001b[39;00m \u001b[43m_end_unary_response_blocking\u001b[49m\u001b[43m(\u001b[49m\u001b[43mstate\u001b[49m\u001b[43m,\u001b[49m\u001b[43m \u001b[49m\u001b[43mcall\u001b[49m\u001b[43m,\u001b[49m\u001b[43m \u001b[49m\u001b[38;5;28;43;01mTrue\u001b[39;49;00m\u001b[43m,\u001b[49m\u001b[43m \u001b[49m\u001b[38;5;28;43;01mNone\u001b[39;49;00m\u001b[43m)\u001b[49m\n",
      "\u001b[36mFile \u001b[39m\u001b[32m~/src/pdum_gcp/.venv/lib/python3.12/site-packages/grpc/_channel.py:996\u001b[39m, in \u001b[36m_end_unary_response_blocking\u001b[39m\u001b[34m(state, call, with_call, deadline)\u001b[39m\n\u001b[32m    995\u001b[39m     \u001b[38;5;28;01mreturn\u001b[39;00m state.response\n\u001b[32m--> \u001b[39m\u001b[32m996\u001b[39m \u001b[38;5;28;01mraise\u001b[39;00m _InactiveRpcError(state)\n",
      "\u001b[31m_InactiveRpcError\u001b[39m: <_InactiveRpcError of RPC that terminated with:\n\tstatus = StatusCode.PERMISSION_DENIED\n\tdetails = \"Service accounts cannot create projects without a parent.\"\n\tdebug_error_string = \"UNKNOWN:Error received from peer ipv6:%5B2607:f8b0:4006:81d::200a%5D:443 {grpc_message:\"Service accounts cannot create projects without a parent.\", grpc_status:7}\"\n>",
      "\nThe above exception was the direct cause of the following exception:\n",
      "\u001b[31mPermissionDenied\u001b[39m                          Traceback (most recent call last)",
      "\u001b[36mFile \u001b[39m\u001b[32m~/src/pdum_gcp/src/pdum/gcp/admin.py:315\u001b[39m, in \u001b[36mAdminCredentials._create_or_get_project\u001b[39m\u001b[34m(self, project_id, display_name)\u001b[39m\n\u001b[32m    308\u001b[39m request = resourcemanager_v3.CreateProjectRequest(\n\u001b[32m    309\u001b[39m     project=resourcemanager_v3.Project(\n\u001b[32m    310\u001b[39m         project_id=project_id,\n\u001b[32m   (...)\u001b[39m\u001b[32m    313\u001b[39m     )\n\u001b[32m    314\u001b[39m )\n\u001b[32m--> \u001b[39m\u001b[32m315\u001b[39m operation = \u001b[43mclient\u001b[49m\u001b[43m.\u001b[49m\u001b[43mcreate_project\u001b[49m\u001b[43m(\u001b[49m\u001b[43mrequest\u001b[49m\u001b[43m=\u001b[49m\u001b[43mrequest\u001b[49m\u001b[43m)\u001b[49m\n\u001b[32m    316\u001b[39m result = operation.result(timeout=\u001b[32m300\u001b[39m)\n",
      "\u001b[36mFile \u001b[39m\u001b[32m~/src/pdum_gcp/.venv/lib/python3.12/site-packages/google/cloud/resourcemanager_v3/services/projects/client.py:1247\u001b[39m, in \u001b[36mProjectsClient.create_project\u001b[39m\u001b[34m(self, request, project, retry, timeout, metadata)\u001b[39m\n\u001b[32m   1246\u001b[39m \u001b[38;5;66;03m# Send the request.\u001b[39;00m\n\u001b[32m-> \u001b[39m\u001b[32m1247\u001b[39m response = \u001b[43mrpc\u001b[49m\u001b[43m(\u001b[49m\n\u001b[32m   1248\u001b[39m \u001b[43m    \u001b[49m\u001b[43mrequest\u001b[49m\u001b[43m,\u001b[49m\n\u001b[32m   1249\u001b[39m \u001b[43m    \u001b[49m\u001b[43mretry\u001b[49m\u001b[43m=\u001b[49m\u001b[43mretry\u001b[49m\u001b[43m,\u001b[49m\n\u001b[32m   1250\u001b[39m \u001b[43m    \u001b[49m\u001b[43mtimeout\u001b[49m\u001b[43m=\u001b[49m\u001b[43mtimeout\u001b[49m\u001b[43m,\u001b[49m\n\u001b[32m   1251\u001b[39m \u001b[43m    \u001b[49m\u001b[43mmetadata\u001b[49m\u001b[43m=\u001b[49m\u001b[43mmetadata\u001b[49m\u001b[43m,\u001b[49m\n\u001b[32m   1252\u001b[39m \u001b[43m\u001b[49m\u001b[43m)\u001b[49m\n\u001b[32m   1254\u001b[39m \u001b[38;5;66;03m# Wrap the response in an operation future.\u001b[39;00m\n",
      "\u001b[36mFile \u001b[39m\u001b[32m~/src/pdum_gcp/.venv/lib/python3.12/site-packages/google/api_core/gapic_v1/method.py:131\u001b[39m, in \u001b[36m_GapicCallable.__call__\u001b[39m\u001b[34m(self, timeout, retry, compression, *args, **kwargs)\u001b[39m\n\u001b[32m    129\u001b[39m     kwargs[\u001b[33m\"\u001b[39m\u001b[33mcompression\u001b[39m\u001b[33m\"\u001b[39m] = compression\n\u001b[32m--> \u001b[39m\u001b[32m131\u001b[39m \u001b[38;5;28;01mreturn\u001b[39;00m \u001b[43mwrapped_func\u001b[49m\u001b[43m(\u001b[49m\u001b[43m*\u001b[49m\u001b[43margs\u001b[49m\u001b[43m,\u001b[49m\u001b[43m \u001b[49m\u001b[43m*\u001b[49m\u001b[43m*\u001b[49m\u001b[43mkwargs\u001b[49m\u001b[43m)\u001b[49m\n",
      "\u001b[36mFile \u001b[39m\u001b[32m~/src/pdum_gcp/.venv/lib/python3.12/site-packages/google/api_core/timeout.py:130\u001b[39m, in \u001b[36mTimeToDeadlineTimeout.__call__.<locals>.func_with_timeout\u001b[39m\u001b[34m(*args, **kwargs)\u001b[39m\n\u001b[32m    128\u001b[39m     kwargs[\u001b[33m\"\u001b[39m\u001b[33mtimeout\u001b[39m\u001b[33m\"\u001b[39m] = remaining_timeout\n\u001b[32m--> \u001b[39m\u001b[32m130\u001b[39m \u001b[38;5;28;01mreturn\u001b[39;00m \u001b[43mfunc\u001b[49m\u001b[43m(\u001b[49m\u001b[43m*\u001b[49m\u001b[43margs\u001b[49m\u001b[43m,\u001b[49m\u001b[43m \u001b[49m\u001b[43m*\u001b[49m\u001b[43m*\u001b[49m\u001b[43mkwargs\u001b[49m\u001b[43m)\u001b[49m\n",
      "\u001b[36mFile \u001b[39m\u001b[32m~/src/pdum_gcp/.venv/lib/python3.12/site-packages/google/api_core/grpc_helpers.py:77\u001b[39m, in \u001b[36m_wrap_unary_errors.<locals>.error_remapped_callable\u001b[39m\u001b[34m(*args, **kwargs)\u001b[39m\n\u001b[32m     76\u001b[39m \u001b[38;5;28;01mexcept\u001b[39;00m grpc.RpcError \u001b[38;5;28;01mas\u001b[39;00m exc:\n\u001b[32m---> \u001b[39m\u001b[32m77\u001b[39m     \u001b[38;5;28;01mraise\u001b[39;00m exceptions.from_grpc_error(exc) \u001b[38;5;28;01mfrom\u001b[39;00m\u001b[38;5;250m \u001b[39m\u001b[34;01mexc\u001b[39;00m\n",
      "\u001b[31mPermissionDenied\u001b[39m: 403 Service accounts cannot create projects without a parent.",
      "\nThe above exception was the direct cause of the following exception:\n",
      "\u001b[31mAdminCredentialsError\u001b[39m                     Traceback (most recent call last)",
      "\u001b[36mCell\u001b[39m\u001b[36m \u001b[39m\u001b[32mIn[3]\u001b[39m\u001b[32m, line 3\u001b[39m\n\u001b[32m      1\u001b[39m \u001b[38;5;66;03m# Example 1: Create project with defaults (uses default billing account and ML APIs)\u001b[39;00m\n\u001b[32m      2\u001b[39m \u001b[38;5;66;03m# Uncomment to run:\u001b[39;00m\n\u001b[32m----> \u001b[39m\u001b[32m3\u001b[39m project = \u001b[43mcreds\u001b[49m\u001b[43m.\u001b[49m\u001b[43mcreate_project\u001b[49m\u001b[43m(\u001b[49m\n\u001b[32m      4\u001b[39m \u001b[43m    \u001b[49m\u001b[43mproject_id\u001b[49m\u001b[43m=\u001b[49m\u001b[33;43m\"\u001b[39;49m\u001b[33;43mtest-project-asx12345\u001b[39;49m\u001b[33;43m\"\u001b[39;49m\u001b[43m,\u001b[49m\u001b[43m  \u001b[49m\u001b[38;5;66;43;03m# Must be globally unique!\u001b[39;49;00m\n\u001b[32m      5\u001b[39m \u001b[43m    \u001b[49m\u001b[43mdisplay_name\u001b[49m\u001b[43m=\u001b[49m\u001b[33;43m\"\u001b[39;49m\u001b[33;43mTest Project\u001b[39;49m\u001b[33;43m\"\u001b[39;49m\n\u001b[32m      6\u001b[39m \u001b[43m)\u001b[49m\n\u001b[32m      7\u001b[39m \u001b[38;5;28mprint\u001b[39m(\u001b[33mf\u001b[39m\u001b[33m\"\u001b[39m\u001b[33mCreated project: \u001b[39m\u001b[38;5;132;01m{\u001b[39;00mproject.project_id\u001b[38;5;132;01m}\u001b[39;00m\u001b[33m\"\u001b[39m)\n\u001b[32m      8\u001b[39m \u001b[38;5;28mprint\u001b[39m(\u001b[33mf\u001b[39m\u001b[33m\"\u001b[39m\u001b[33mProject state: \u001b[39m\u001b[38;5;132;01m{\u001b[39;00mproject.state\u001b[38;5;132;01m}\u001b[39;00m\u001b[33m\"\u001b[39m)\n",
      "\u001b[36mFile \u001b[39m\u001b[32m~/src/pdum_gcp/src/pdum/gcp/admin.py:237\u001b[39m, in \u001b[36mAdminCredentials.create_project\u001b[39m\u001b[34m(self, project_id, display_name, billing_account_id, enable_apis)\u001b[39m\n\u001b[32m    226\u001b[39m     enable_apis = [\n\u001b[32m    227\u001b[39m         \u001b[33m\"\u001b[39m\u001b[33mfirestore.googleapis.com\u001b[39m\u001b[33m\"\u001b[39m,\n\u001b[32m    228\u001b[39m         \u001b[33m\"\u001b[39m\u001b[33maiplatform.googleapis.com\u001b[39m\u001b[33m\"\u001b[39m,  \u001b[38;5;66;03m# Vertex AI / Gemini\u001b[39;00m\n\u001b[32m   (...)\u001b[39m\u001b[32m    233\u001b[39m         \u001b[33m\"\u001b[39m\u001b[33mbigtableadmin.googleapis.com\u001b[39m\u001b[33m\"\u001b[39m,  \u001b[38;5;66;03m# BigTable Admin\u001b[39;00m\n\u001b[32m    234\u001b[39m     ]\n\u001b[32m    236\u001b[39m \u001b[38;5;66;03m# Step 1: Create or verify project exists\u001b[39;00m\n\u001b[32m--> \u001b[39m\u001b[32m237\u001b[39m project = \u001b[38;5;28;43mself\u001b[39;49m\u001b[43m.\u001b[49m\u001b[43m_create_or_get_project\u001b[49m\u001b[43m(\u001b[49m\u001b[43mproject_id\u001b[49m\u001b[43m,\u001b[49m\u001b[43m \u001b[49m\u001b[43mdisplay_name\u001b[49m\u001b[43m)\u001b[49m\n\u001b[32m    239\u001b[39m \u001b[38;5;66;03m# Step 2: Link billing account\u001b[39;00m\n\u001b[32m    240\u001b[39m \u001b[38;5;28mself\u001b[39m._link_project_billing(project_id, billing_account_id)\n",
      "\u001b[36mFile \u001b[39m\u001b[32m~/src/pdum_gcp/src/pdum/gcp/admin.py:327\u001b[39m, in \u001b[36mAdminCredentials._create_or_get_project\u001b[39m\u001b[34m(self, project_id, display_name)\u001b[39m\n\u001b[32m    318\u001b[39m     \u001b[38;5;28;01mreturn\u001b[39;00m Project(\n\u001b[32m    319\u001b[39m         name=result.name,\n\u001b[32m    320\u001b[39m         project_id=project_id,\n\u001b[32m   (...)\u001b[39m\u001b[32m    323\u001b[39m         state=result.state.name,\n\u001b[32m    324\u001b[39m     )\n\u001b[32m    326\u001b[39m \u001b[38;5;28;01mexcept\u001b[39;00m \u001b[38;5;167;01mException\u001b[39;00m \u001b[38;5;28;01mas\u001b[39;00m e:\n\u001b[32m--> \u001b[39m\u001b[32m327\u001b[39m     \u001b[38;5;28;01mraise\u001b[39;00m AdminCredentialsError(\n\u001b[32m    328\u001b[39m         \u001b[33mf\u001b[39m\u001b[33m\"\u001b[39m\u001b[33mFailed to create project \u001b[39m\u001b[38;5;132;01m{\u001b[39;00mproject_id\u001b[38;5;132;01m}\u001b[39;00m\u001b[33m: \u001b[39m\u001b[38;5;132;01m{\u001b[39;00me\u001b[38;5;132;01m}\u001b[39;00m\u001b[33m\"\u001b[39m\n\u001b[32m    329\u001b[39m     ) \u001b[38;5;28;01mfrom\u001b[39;00m\u001b[38;5;250m \u001b[39m\u001b[34;01me\u001b[39;00m\n",
      "\u001b[31mAdminCredentialsError\u001b[39m: Failed to create project test-project-asx12345: 403 Service accounts cannot create projects without a parent."
     ]
    }
   ],
   "source": [
    "# Example 1: Create project with defaults (uses default billing account and ML APIs)\n",
    "# Uncomment to run:\n",
    "project = creds.create_project(\n",
    "    project_id=\"test-project-asx12345\",  # Must be globally unique!\n",
    "    display_name=\"Test Project\"\n",
    ")\n",
    "print(f\"Created project: {project.project_id}\")\n",
    "print(f\"Project state: {project.state}\")\n",
    "print(f\"Labels: {project.labels}\")\n",
    "\n",
    "print(\"Example 1: Commented out (uncomment to create a project)\")\n",
    "print()\n",
    "\n",
    "# Example 2: Create project with specific billing account and custom APIs\n",
    "# Uncomment to run:\n",
    "# project = creds.create_project(\n",
    "#     project_id=\"my-custom-project-67890\",\n",
    "#     display_name=\"Custom Project\",\n",
    "#     billing_account_id=\"016EF2-C9E743-5BA3D3\",\n",
    "#     enable_apis=[\n",
    "#         \"firestore.googleapis.com\",\n",
    "#         \"compute.googleapis.com\",\n",
    "#         \"storage-api.googleapis.com\",\n",
    "#     ]\n",
    "# )\n",
    "# print(f\"Created project: {project.project_id}\")\n",
    "\n",
    "print(\"Example 2: Commented out (uncomment to create a custom project)\")\n",
    "print()\n",
    "\n",
    "# Example 3: Show what APIs would be enabled by default\n",
    "print(\"=\" * 60)\n",
    "print(\"Default ML APIs that would be enabled:\")\n",
    "print(\"=\" * 60)\n",
    "default_apis = [\n",
    "    \"firestore.googleapis.com - Firestore\",\n",
    "    \"aiplatform.googleapis.com - Vertex AI / Gemini\",\n",
    "    \"container.googleapis.com - GKE\",\n",
    "    \"storage-api.googleapis.com - Cloud Storage\",\n",
    "    \"storage-component.googleapis.com - Cloud Storage Component\",\n",
    "    \"bigtable.googleapis.com - BigTable\",\n",
    "    \"bigtableadmin.googleapis.com - BigTable Admin\",\n",
    "]\n",
    "for api in default_apis:\n",
    "    print(f\"  • {api}\")"
   ]
  },
  {
   "cell_type": "code",
   "execution_count": null,
   "id": "7164c7ea",
   "metadata": {},
   "outputs": [],
   "source": []
  }
 ],
 "metadata": {
  "kernelspec": {
   "display_name": "habemus-papadum-gcp",
   "language": "python",
   "name": "python3"
  },
  "language_info": {
   "codemirror_mode": {
    "name": "ipython",
    "version": 3
   },
   "file_extension": ".py",
   "mimetype": "text/x-python",
   "name": "python",
   "nbconvert_exporter": "python",
   "pygments_lexer": "ipython3",
   "version": "3.12.11"
  }
 },
 "nbformat": 4,
 "nbformat_minor": 5
}
